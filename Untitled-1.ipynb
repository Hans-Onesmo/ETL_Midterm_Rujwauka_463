{
 "cells": [
  {
   "cell_type": "markdown",
   "id": "c9d37465",
   "metadata": {},
   "source": [
    "#  Extract Phase"
   ]
  },
  {
   "cell_type": "code",
   "execution_count": 1,
   "id": "e3d94a9c",
   "metadata": {},
   "outputs": [
    {
     "name": "stdout",
     "output_type": "stream",
     "text": [
      "=== Raw Data ===\n",
      "   order_id customer_name product  quantity  unit_price  order_date region\n",
      "0         1         Diana  Tablet       NaN       500.0  2024-01-20  South\n",
      "1         2           Eve  Laptop       NaN         NaN  2024-04-29  North\n",
      "2         3       Charlie  Laptop       2.0       250.0  2024-01-08    NaN\n",
      "3         4           Eve  Laptop       2.0       750.0  2024-01-07   West\n",
      "4         5           Eve  Tablet       3.0         NaN  2024-03-07  South\n",
      "<class 'pandas.core.frame.DataFrame'>\n",
      "RangeIndex: 100 entries, 0 to 99\n",
      "Data columns (total 7 columns):\n",
      " #   Column         Non-Null Count  Dtype  \n",
      "---  ------         --------------  -----  \n",
      " 0   order_id       100 non-null    int64  \n",
      " 1   customer_name  99 non-null     object \n",
      " 2   product        100 non-null    object \n",
      " 3   quantity       74 non-null     float64\n",
      " 4   unit_price     65 non-null     float64\n",
      " 5   order_date     99 non-null     object \n",
      " 6   region         75 non-null     object \n",
      "dtypes: float64(2), int64(1), object(4)\n",
      "memory usage: 5.6+ KB\n",
      "None\n",
      "\n",
      "=== Incremental Data ===\n",
      "   order_id customer_name product  quantity  unit_price  order_date   region\n",
      "0       101         Alice  Laptop       NaN       900.0  2024-05-09  Central\n",
      "1       102           NaN  Laptop       1.0       300.0  2024-05-07  Central\n",
      "2       103           NaN  Laptop       1.0       600.0  2024-05-04  Central\n",
      "3       104           NaN  Tablet       NaN       300.0  2024-05-26  Central\n",
      "4       105         Heidi  Tablet       2.0       600.0  2024-05-21    North\n",
      "<class 'pandas.core.frame.DataFrame'>\n",
      "RangeIndex: 10 entries, 0 to 9\n",
      "Data columns (total 7 columns):\n",
      " #   Column         Non-Null Count  Dtype  \n",
      "---  ------         --------------  -----  \n",
      " 0   order_id       10 non-null     int64  \n",
      " 1   customer_name  4 non-null      object \n",
      " 2   product        10 non-null     object \n",
      " 3   quantity       6 non-null      float64\n",
      " 4   unit_price     10 non-null     float64\n",
      " 5   order_date     10 non-null     object \n",
      " 6   region         8 non-null      object \n",
      "dtypes: float64(2), int64(1), object(4)\n",
      "memory usage: 688.0+ bytes\n",
      "None\n",
      "\n",
      "Data Observations:\n",
      "1. Missing values in customer_name, quantity, unit_price, order_date, region\n",
      "2. Duplicate rows (order_id 4 appears twice)\n",
      "3. Data type inconsistencies in numeric fields\n",
      "4. New customers in incremental data\n",
      "5. New region (Central) in incremental data\n",
      "\n"
     ]
    }
   ],
   "source": [
    "import pandas as pd\n",
    "\n",
    "# Load raw data\n",
    "raw_data = pd.read_csv('raw_data.csv')\n",
    "incremental_data = pd.read_csv('incremental_data.csv')\n",
    "\n",
    "# Display data info\n",
    "print(\"=== Raw Data ===\")\n",
    "print(raw_data.head())\n",
    "print(raw_data.info())\n",
    "\n",
    "print(\"\\n=== Incremental Data ===\")\n",
    "print(incremental_data.head())\n",
    "print(incremental_data.info())\n",
    "\n",
    "# Document observations\n",
    "print(\"\"\"\n",
    "Data Observations:\n",
    "1. Missing values in customer_name, quantity, unit_price, order_date, region\n",
    "2. Duplicate rows (order_id 4 appears twice)\n",
    "3. Data type inconsistencies in numeric fields\n",
    "4. New customers in incremental data\n",
    "5. New region (Central) in incremental data\n",
    "\"\"\")"
   ]
  },
  {
   "cell_type": "markdown",
   "id": "4affba0e",
   "metadata": {},
   "source": [
    "# Transform Phase"
   ]
  },
  {
   "cell_type": "code",
   "execution_count": 5,
   "id": "5ce4ba96",
   "metadata": {},
   "outputs": [
    {
     "name": "stdout",
     "output_type": "stream",
     "text": [
      "=== Handling Missing Values ===\n",
      "=== Removing Duplicates ===\n",
      "=== Data Enrichment ===\n",
      "=== Data Type Conversion ===\n"
     ]
    }
   ],
   "source": [
    "import pandas as pd\n",
    "import numpy as np\n",
    "import os\n",
    "\n",
    "# Create directory if it doesn't exist\n",
    "os.makedirs('transformed', exist_ok=True)\n",
    "\n",
    "# Load raw data\n",
    "raw_data = pd.read_csv('raw_data.csv')\n",
    "incremental_data = pd.read_csv('incremental_data.csv')\n",
    "\n",
    "# Transformation 1: Handle missing values\n",
    "print(\"=== Handling Missing Values ===\")\n",
    "raw_data['customer_name'].fillna('Unknown', inplace=True)\n",
    "raw_data['region'].fillna('Unspecified', inplace=True)\n",
    "raw_data['quantity'].fillna(raw_data['quantity'].median(), inplace=True)\n",
    "raw_data['unit_price'].fillna(raw_data['unit_price'].median(), inplace=True)\n",
    "raw_data['order_date'].fillna('1900-01-01', inplace=True)\n",
    "\n",
    "incremental_data['customer_name'].fillna('Unknown', inplace=True)\n",
    "incremental_data['region'].fillna('Unspecified', inplace=True)\n",
    "incremental_data['quantity'].fillna(incremental_data['quantity'].median(), inplace=True)\n",
    "incremental_data['unit_price'].fillna(incremental_data['unit_price'].median(), inplace=True)\n",
    "incremental_data['order_date'].fillna('1900-01-01', inplace=True)\n",
    "\n",
    "# Transformation 2: Remove duplicates\n",
    "print(\"=== Removing Duplicates ===\")\n",
    "raw_data.drop_duplicates(subset='order_id', keep='first', inplace=True)\n",
    "\n",
    "# Transformation 3: Data enrichment\n",
    "print(\"=== Data Enrichment ===\")\n",
    "raw_data['total_price'] = raw_data['quantity'] * raw_data['unit_price']\n",
    "raw_data['order_date'] = pd.to_datetime(raw_data['order_date'])\n",
    "raw_data['order_month'] = raw_data['order_date'].dt.month\n",
    "raw_data['order_year'] = raw_data['order_date'].dt.year\n",
    "\n",
    "incremental_data['total_price'] = incremental_data['quantity'] * incremental_data['unit_price']\n",
    "incremental_data['order_date'] = pd.to_datetime(incremental_data['order_date'])\n",
    "incremental_data['order_month'] = incremental_data['order_date'].dt.month\n",
    "incremental_data['order_year'] = incremental_data['order_date'].dt.year\n",
    "\n",
    "# Transformation 4: Data type conversion\n",
    "print(\"=== Data Type Conversion ===\")\n",
    "raw_data['quantity'] = raw_data['quantity'].astype(int)\n",
    "raw_data['order_id'] = raw_data['order_id'].astype(int)\n",
    "\n",
    "incremental_data['quantity'] = incremental_data['quantity'].astype(int)\n",
    "incremental_data['order_id'] = incremental_data['order_id'].astype(int)\n",
    "\n",
    "# Save transformed data as Parquet\n",
    "raw_data.to_parquet('transformed/transformed_full.parquet')\n",
    "incremental_data.to_parquet('transformed/transformed_incremental.parquet')"
   ]
  },
  {
   "cell_type": "markdown",
   "id": "16368c6a",
   "metadata": {},
   "source": [
    "#  Load Phase "
   ]
  },
  {
   "cell_type": "code",
   "execution_count": 8,
   "id": "e08f8ead",
   "metadata": {},
   "outputs": [
    {
     "name": "stdout",
     "output_type": "stream",
     "text": [
      "=== Full Data Sample ===\n",
      "   order_id customer_name product  quantity  unit_price order_date  \\\n",
      "0         1         Diana  Tablet         2       500.0 2024-01-20   \n",
      "1         2           Eve  Laptop         2       500.0 2024-04-29   \n",
      "2         3       Charlie  Laptop         2       250.0 2024-01-08   \n",
      "3         4           Eve  Laptop         2       750.0 2024-01-07   \n",
      "4         5           Eve  Tablet         3       500.0 2024-03-07   \n",
      "\n",
      "        region  total_price  order_month  order_year  \n",
      "0        South       1000.0            1        2024  \n",
      "1        North       1000.0            4        2024  \n",
      "2  Unspecified        500.0            1        2024  \n",
      "3         West       1500.0            1        2024  \n",
      "4        South       1500.0            3        2024  \n",
      "\n",
      "=== Incremental Data Sample ===\n",
      "   order_id customer_name product  quantity  unit_price order_date   region  \\\n",
      "0       101         Alice  Laptop         1       900.0 2024-05-09  Central   \n",
      "1       102       Unknown  Laptop         1       300.0 2024-05-07  Central   \n",
      "2       103       Unknown  Laptop         1       600.0 2024-05-04  Central   \n",
      "3       104       Unknown  Tablet         1       300.0 2024-05-26  Central   \n",
      "4       105         Heidi  Tablet         2       600.0 2024-05-21    North   \n",
      "\n",
      "   total_price  order_month  order_year  \n",
      "0       1350.0            5        2024  \n",
      "1        300.0            5        2024  \n",
      "2        600.0            5        2024  \n",
      "3        450.0            5        2024  \n",
      "4       1200.0            5        2024  \n"
     ]
    }
   ],
   "source": [
    "# Create 'loaded' directory if it doesn't exist\n",
    "os.makedirs('loaded', exist_ok=True)\n",
    "\n",
    "# Load transformed Parquet files\n",
    "transformed_full = pd.read_parquet('transformed/transformed_full.parquet')\n",
    "transformed_incremental = pd.read_parquet('transformed/transformed_incremental.parquet')\n",
    "\n",
    "# Save final output as Parquet\n",
    "transformed_full.to_parquet('loaded/full_data.parquet')\n",
    "transformed_incremental.to_parquet('loaded/incremental_data.parquet')\n",
    "\n",
    "# Verify loaded data\n",
    "print(\"=== Full Data Sample ===\")\n",
    "print(pd.read_parquet('loaded/full_data.parquet').head())\n",
    "\n",
    "print(\"\\n=== Incremental Data Sample ===\")\n",
    "print(pd.read_parquet('loaded/incremental_data.parquet').head())"
   ]
  }
 ],
 "metadata": {
  "kernelspec": {
   "display_name": "base",
   "language": "python",
   "name": "python3"
  },
  "language_info": {
   "codemirror_mode": {
    "name": "ipython",
    "version": 3
   },
   "file_extension": ".py",
   "mimetype": "text/x-python",
   "name": "python",
   "nbconvert_exporter": "python",
   "pygments_lexer": "ipython3",
   "version": "3.9.13"
  }
 },
 "nbformat": 4,
 "nbformat_minor": 5
}
